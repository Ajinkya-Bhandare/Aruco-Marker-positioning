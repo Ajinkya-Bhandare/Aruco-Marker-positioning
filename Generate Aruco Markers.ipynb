{
 "cells": [
  {
   "cell_type": "code",
   "execution_count": 2,
   "metadata": {},
   "outputs": [],
   "source": [
    "import cv2 as cv\n",
    "import numpy as np"
   ]
  },
  {
   "cell_type": "code",
   "execution_count": 4,
   "metadata": {},
   "outputs": [],
   "source": [
    "# Load the predefined dictionary\n",
    "dictionary = cv.aruco.Dictionary_get(cv.aruco.DICT_6X6_250)\n",
    "idm = 12\n",
    "# Generate the marker\n",
    "for idm in range(0,50):\n",
    "    markerImage = np.zeros((200, 200), dtype=np.uint8)\n",
    "    markerImage = cv.aruco.drawMarker(dictionary, idm, 200, markerImage, 1);\n",
    "\n",
    "    cv.imwrite(\"marker\"+str(idm)+\".png\", markerImage);"
   ]
  },
  {
   "cell_type": "code",
   "execution_count": null,
   "metadata": {},
   "outputs": [],
   "source": []
  }
 ],
 "metadata": {
  "kernelspec": {
   "display_name": "Python 3",
   "language": "python",
   "name": "python3"
  },
  "language_info": {
   "codemirror_mode": {
    "name": "ipython",
    "version": 3
   },
   "file_extension": ".py",
   "mimetype": "text/x-python",
   "name": "python",
   "nbconvert_exporter": "python",
   "pygments_lexer": "ipython3",
   "version": "3.6.9"
  }
 },
 "nbformat": 4,
 "nbformat_minor": 2
}
