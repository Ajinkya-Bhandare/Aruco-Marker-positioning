{
 "cells": [
  {
   "cell_type": "code",
   "execution_count": 1,
   "metadata": {},
   "outputs": [],
   "source": [
    "import numpy as np\n",
    "import cv2\n",
    "import matplotlib.pyplot as plt\n",
    "import pandas as pd\n",
    "from scipy.spatial.transform import Rotation as R"
   ]
  },
  {
   "cell_type": "code",
   "execution_count": 2,
   "metadata": {
    "scrolled": false
   },
   "outputs": [],
   "source": [
    "# READ THE CAMERA MATRIX INTRINSIC AND THE DISTORTION COEFFICIENTS\n",
    "int_mat = pd.read_csv(\"cam.csv\",header=None).values\n",
    "dist = pd.read_csv(\"dist.csv\",header=None).values"
   ]
  },
  {
   "cell_type": "code",
   "execution_count": 4,
   "metadata": {},
   "outputs": [
    {
     "name": "stdout",
     "output_type": "stream",
     "text": [
      "Number of markers visible are: 1\n"
     ]
    },
    {
     "data": {
      "image/png": "[encoded data removed]",
      "text/plain": [
       "<Figure size 432x288 with 1 Axes>"
      ]
     },
     "metadata": {},
     "output_type": "display_data"
    }
   ],
   "source": [
    "# LOAD MARKER IMAGE\n",
    "frame = cv2.imread(\"Images/marker0.png\",1)\n",
    "# ADD BORDER (WHITE)\n",
    "frame = cv2.copyMakeBorder(frame,100,100,100,100,cv2.BORDER_CONSTANT,value=[255,255,255])\n",
    "\n",
    "dictionary = cv2.aruco.Dictionary_get(cv2.aruco.DICT_6X6_250)\n",
    "parameters =  cv2.aruco.DetectorParameters_create() \n",
    "\n",
    "# DETECT MARKERS IN THE IMAGE\n",
    "markerCorners, markerIds, rejectedCandidates = cv2.aruco.detectMarkers(frame, dictionary, parameters=parameters)\n",
    "num_markers = len(markerCorners) # NUMBER OF MARKERS DETECTED\n",
    "print(\"Number of markers visible are:\",num_markers)\n",
    "\n",
    "plt.rc_context({'axes.edgecolor':'white','xtick.color':'white','ytick.color':'white'})\n",
    "# ABOVE LINE MAKES AXIS COLOR WHITE IN PLOT.COMMENT IT IF U HAVE AWHITE BACKGROUND\n",
    "plt.imshow(frame)\n",
    "plt.show()"
   ]
  },
  {
   "cell_type": "code",
   "execution_count": 5,
   "metadata": {},
   "outputs": [],
   "source": [
    "axes = frame\n",
    "for i in range(num_markers):\n",
    "    rvec,tvec,_ = cv2.aruco.estimatePoseSingleMarkers(markerCorners[i],5,cameraMatrix=int_mat,distCoeffs=dist)\n",
    "    cv2.aruco.drawAxis(axes,int_mat,dist,rvec,tvec,1)\n",
    "cv2.imshow(\"MARKER AXES\", axes) \n",
    "cv2.waitKey(0)  \n",
    "cv2.destroyAllWindows()"
   ]
  },
  {
   "cell_type": "code",
   "execution_count": 12,
   "metadata": {},
   "outputs": [],
   "source": [
    "marker_ids = frame\n",
    "font = cv2.FONT_HERSHEY_SIMPLEX \n",
    "org = (50, 50) \n",
    "fontScale = 1\n",
    "color = (255, 0, 0) \n",
    "thickness = 2\n",
    "for i in range(num_markers):\n",
    "    [x,y] = np.mean(markerCorners[i][0],axis=0) \n",
    "    marker_ids = cv2.putText(marker_ids,str(markerIds[i]),(x,y), font,  \n",
    "                       fontScale, color, thickness, cv2.LINE_AA) \n",
    "cv2.imshow(\"marker_ids\", marker_ids) \n",
    "cv2.waitKey(0)  \n",
    "cv2.destroyAllWindows()"
   ]
  },
  {
   "cell_type": "code",
   "execution_count": 13,
   "metadata": {},
   "outputs": [
    {
     "name": "stdout",
     "output_type": "stream",
     "text": [
      "[163.84982032   1.53711111  -2.53838797]\r"
     ]
    }
   ],
   "source": [
    "# DETERMINE ANGLE COORDINATES FOR A CONTINIOUS VIDEO\n",
    "\n",
    "vid = cv2.VideoCapture(2) # SELECT PROPER VIDEO SOURCE \n",
    "while(True): \n",
    "    ret, frame = vid.read() \n",
    "    markerCorners, markerIds, rejectedCandidates = cv2.aruco.detectMarkers(frame, dictionary, parameters=parameters)\n",
    "    num_markers = len(markerCorners)\n",
    "    # DRAW AXIS FOR ALL MARKERS\n",
    "    for i in range(num_markers):\n",
    "        rvec,tvec,_ = cv2.aruco.estimatePoseSingleMarkers(markerCorners[i],5,cameraMatrix=int_mat,distCoeffs=dist)\n",
    "        cv2.aruco.drawAxis(frame,int_mat,dist,rvec,tvec,1)\n",
    "    #DETERMINE ROTATION ANGLES FOR LAST MARKER\n",
    "    rot = cv2.Rodrigues(rvec)\n",
    "    r = R.from_matrix(rot[0])\n",
    "    print(r.as_euler('xyz', degrees=True),end=\"\\r\")\n",
    "    \n",
    "    cv2.imshow('frame', frame)\n",
    "    if cv2.waitKey(1) & 0xFF == ord('q'): \n",
    "        break  \n",
    "vid.release() \n",
    "cv2.destroyAllWindows() "
   ]
  },
  {
   "cell_type": "code",
   "execution_count": 119,
   "metadata": {},
   "outputs": [
    {
     "name": "stdout",
     "output_type": "stream",
     "text": [
      "[178.39976803 -16.1442094  -92.09332726]02]\r"
     ]
    }
   ],
   "source": [
    "frame = cv2.imread(\"Images/marker0.png\",1)\n",
    "frame = cv2.copyMakeBorder(frame,100,100,100,100,cv2.BORDER_CONSTANT,value=[255,255,255])\n",
    "f = []\n",
    "f.append(frame)\n",
    "f.append(cv2.rotate(frame, cv2.cv2.ROTATE_90_CLOCKWISE))\n",
    "f.append(cv2.rotate(frame, cv2.cv2.ROTATE_180))\n",
    "f.append(cv2.rotate(frame, cv2.cv2.ROTATE_90_COUNTERCLOCKWISE))\n",
    "\n",
    "for i in range(4):\n",
    "    markerCorners, markerIds, rejectedCandidates = cv2.aruco.detectMarkers(f[i], dictionary, parameters=parameters) \n",
    "    rvec,tvec,_ = cv2.aruco.estimatePoseSingleMarkers(markerCorners,.5,cameraMatrix=int_mat,distCoeffs=dist)\n",
    "    #cv2.aruco.drawAxis(f[i],int_mat,dist,rvec,tvec,1)\n",
    "    rot = cv2.Rodrigues(rvec)\n",
    "    r = R.from_matrix(rot[0])\n",
    "    cv2.imshow(\"marker_ids\", f[i]) \n",
    "    cv2.waitKey(0)  \n",
    "    cv2.destroyAllWindows()\n",
    "    print(r.as_euler('xyz', degrees=True))"
   ]
  }
 ],
 "metadata": {
  "kernelspec": {
   "display_name": "Python 3",
   "language": "python",
   "name": "python3"
  },
  "language_info": {
   "codemirror_mode": {
    "name": "ipython",
    "version": 3
   },
   "file_extension": ".py",
   "mimetype": "text/x-python",
   "name": "python",
   "nbconvert_exporter": "python",
   "pygments_lexer": "ipython3",
   "version": "3.6.9"
  }
 },
 "nbformat": 4,
 "nbformat_minor": 2
}
